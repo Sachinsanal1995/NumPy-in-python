{
 "cells": [
  {
   "cell_type": "markdown",
   "id": "27487e17-874f-4e41-b515-aafee281b9a7",
   "metadata": {},
   "source": [
    "<<<<<<<<<<<<<<<<<<<..................................*................*========================================*.................*......................................>>>>>>>>>>>>>>>>>>>"
   ]
  },
  {
   "cell_type": "markdown",
   "id": "be1aacdf-dd7b-4fdd-b137-c2ee7421cf15",
   "metadata": {},
   "source": [
    "*                                                          >> ANALYTICAL PYTHON <<                                                          *"
   ]
  },
  {
   "cell_type": "markdown",
   "id": "7da3530a-d162-4574-acb9-8caa73ec9d82",
   "metadata": {},
   "source": [
    "<<<<<<<<<<<<<<<<<<<..................................*................*========================================*.................*......................................>>>>>>>>>>>>>>>>>>>"
   ]
  },
  {
   "cell_type": "code",
   "execution_count": 14,
   "id": "4059e8c9-07b2-4209-858c-de7ae2612126",
   "metadata": {},
   "outputs": [
    {
     "name": "stdout",
     "output_type": "stream",
     "text": [
      "Requirement already satisfied: numpy in c:\\users\\sachin\\anaconda3\\lib\\site-packages (1.26.4)\n"
     ]
    }
   ],
   "source": [
    "! pip install numpy"
   ]
  },
  {
   "cell_type": "code",
   "execution_count": 479,
   "id": "fd5a3eae-3f99-476f-8278-ab87d813e16a",
   "metadata": {},
   "outputs": [],
   "source": [
    "import numpy as np"
   ]
  },
  {
   "cell_type": "code",
   "execution_count": 481,
   "id": "ab008645-2961-4532-bbc5-d291a609bf2e",
   "metadata": {},
   "outputs": [
    {
     "data": {
      "text/plain": [
       "'1.26.4'"
      ]
     },
     "execution_count": 481,
     "metadata": {},
     "output_type": "execute_result"
    }
   ],
   "source": [
    "np.__version__  # for find verision of numpy"
   ]
  },
  {
   "cell_type": "code",
   "execution_count": 483,
   "id": "de945ad6-f729-47ac-bf36-0e53ffd32b8c",
   "metadata": {},
   "outputs": [
    {
     "name": "stdout",
     "output_type": "stream",
     "text": [
      "[2 3 6 9 4]\n",
      "[3 5 6 8 1]\n"
     ]
    }
   ],
   "source": [
    "a=[2,3,6,9,4]\n",
    "b=[1,2,3,4,5]\n",
    "ma=np.array(a) #to create a array\n",
    "ml=np.array([3,5,6,8,1]) #to create array in single line code\n",
    "print(ma)\n",
    "print(ml)"
   ]
  },
  {
   "cell_type": "markdown",
   "id": "0399dba1-a831-4bd5-a0a2-68153b490e46",
   "metadata": {},
   "source": [
    "|||.................................................................................................................................................................................................................................................................................................................................................................|||"
   ]
  },
  {
   "cell_type": "markdown",
   "id": "4bfb206c-1086-45dc-bda1-6c8798fc10ba",
   "metadata": {},
   "source": [
    "||>> AGGREGATED FUNCTIONS "
   ]
  },
  {
   "cell_type": "code",
   "execution_count": 727,
   "id": "6f776f4b-f788-4404-91b5-697e3b81ffb0",
   "metadata": {},
   "outputs": [
    {
     "data": {
      "text/plain": [
       "4.8"
      ]
     },
     "execution_count": 727,
     "metadata": {},
     "output_type": "execute_result"
    }
   ],
   "source": [
    "np.mean(ma) #for getting mean value of array"
   ]
  },
  {
   "cell_type": "code",
   "execution_count": 729,
   "id": "c952b004-ed6d-443b-83e9-d1f192a2ff71",
   "metadata": {},
   "outputs": [
    {
     "data": {
      "text/plain": [
       "4.6"
      ]
     },
     "execution_count": 729,
     "metadata": {},
     "output_type": "execute_result"
    }
   ],
   "source": [
    "np.mean(ml) #for getting mean value of array\n"
   ]
  },
  {
   "cell_type": "code",
   "execution_count": 731,
   "id": "946bd763-e995-4ccd-b8af-5b44925545f5",
   "metadata": {},
   "outputs": [
    {
     "data": {
      "text/plain": [
       "4.0"
      ]
     },
     "execution_count": 731,
     "metadata": {},
     "output_type": "execute_result"
    }
   ],
   "source": [
    "np.median(ma) #get median value of array"
   ]
  },
  {
   "cell_type": "code",
   "execution_count": 733,
   "id": "f0851091-e048-4e7e-9720-bdc2881b871e",
   "metadata": {},
   "outputs": [
    {
     "data": {
      "text/plain": [
       "5.0"
      ]
     },
     "execution_count": 733,
     "metadata": {},
     "output_type": "execute_result"
    }
   ],
   "source": [
    "np.median(ml) #get median value of array"
   ]
  },
  {
   "cell_type": "code",
   "execution_count": 735,
   "id": "d4f02858-78fa-447e-b580-14c7ec61d859",
   "metadata": {},
   "outputs": [
    {
     "data": {
      "text/plain": [
       "2.4819347291981715"
      ]
     },
     "execution_count": 735,
     "metadata": {},
     "output_type": "execute_result"
    }
   ],
   "source": [
    "np.std(ma) #to find array's standard deviation "
   ]
  },
  {
   "cell_type": "code",
   "execution_count": 737,
   "id": "b11bbbdf-24c8-48c2-a049-69d4b2e8974a",
   "metadata": {},
   "outputs": [
    {
     "data": {
      "text/plain": [
       "2.4166091947189146"
      ]
     },
     "execution_count": 737,
     "metadata": {},
     "output_type": "execute_result"
    }
   ],
   "source": [
    "np.std(ml) #to find array's standard deviation "
   ]
  },
  {
   "cell_type": "code",
   "execution_count": 739,
   "id": "003be72f-d30c-40ea-888d-aa78268ee9b1",
   "metadata": {},
   "outputs": [
    {
     "data": {
      "text/plain": [
       "47"
      ]
     },
     "execution_count": 739,
     "metadata": {},
     "output_type": "execute_result"
    }
   ],
   "source": [
    "np.sum((ma,ml),dtype=int) # for addition of 2 array's total sum values."
   ]
  },
  {
   "cell_type": "code",
   "execution_count": 741,
   "id": "a3552252-6616-4a14-9c2f-8b5d5e847c1e",
   "metadata": {},
   "outputs": [
    {
     "data": {
      "text/plain": [
       "24"
      ]
     },
     "execution_count": 741,
     "metadata": {},
     "output_type": "execute_result"
    }
   ],
   "source": [
    "np.sum(ma) #get addition of all value of a array"
   ]
  },
  {
   "cell_type": "code",
   "execution_count": 743,
   "id": "bf8c5e7f-3ed1-47fc-bbc7-7d5b24f530c7",
   "metadata": {},
   "outputs": [
    {
     "data": {
      "text/plain": [
       "23"
      ]
     },
     "execution_count": 743,
     "metadata": {},
     "output_type": "execute_result"
    }
   ],
   "source": [
    "np.sum(ml) #get addition of all value of a array"
   ]
  },
  {
   "cell_type": "code",
   "execution_count": 745,
   "id": "62ae01c3-f82c-4f5c-9dea-d5c0ee8693e5",
   "metadata": {},
   "outputs": [
    {
     "data": {
      "text/plain": [
       "2"
      ]
     },
     "execution_count": 745,
     "metadata": {},
     "output_type": "execute_result"
    }
   ],
   "source": [
    "np.min(ma) # get minimum (smallest) value from array"
   ]
  },
  {
   "cell_type": "code",
   "execution_count": 747,
   "id": "6a0090cb-e5e3-4d37-8596-4ce83fb3e988",
   "metadata": {},
   "outputs": [
    {
     "data": {
      "text/plain": [
       "1"
      ]
     },
     "execution_count": 747,
     "metadata": {},
     "output_type": "execute_result"
    }
   ],
   "source": [
    "np.min(ml) # get minimum (smallest) value from array"
   ]
  },
  {
   "cell_type": "code",
   "execution_count": 749,
   "id": "9b18d4ba-8624-412b-af7d-d976aafbf367",
   "metadata": {},
   "outputs": [
    {
     "data": {
      "text/plain": [
       "9"
      ]
     },
     "execution_count": 749,
     "metadata": {},
     "output_type": "execute_result"
    }
   ],
   "source": [
    "np.max(ma) # get maximum (biggest) value from array"
   ]
  },
  {
   "cell_type": "code",
   "execution_count": 751,
   "id": "367f77ee-3918-47fd-a499-de09d930eb36",
   "metadata": {},
   "outputs": [
    {
     "data": {
      "text/plain": [
       "8"
      ]
     },
     "execution_count": 751,
     "metadata": {},
     "output_type": "execute_result"
    }
   ],
   "source": [
    "np.max(ml) # get maximum (biggest) value from array"
   ]
  },
  {
   "cell_type": "code",
   "execution_count": 753,
   "id": "f29502a6-d830-45e2-815b-ea79ea5d1c42",
   "metadata": {},
   "outputs": [],
   "source": [
    "d1=np.array([1,2,3]) # d1.cumsum(axis=1) not work in 1D \n"
   ]
  },
  {
   "cell_type": "code",
   "execution_count": 755,
   "id": "f17ef600-3c00-4ce4-9e4d-b4d858cd0211",
   "metadata": {},
   "outputs": [
    {
     "name": "stdout",
     "output_type": "stream",
     "text": [
      "[[1 2 3]\n",
      " [4 5 6]\n",
      " [7 8 9]]\n"
     ]
    },
    {
     "data": {
      "text/plain": [
       "array([[ 1,  3,  6],\n",
       "       [ 4,  9, 15],\n",
       "       [ 7, 15, 24]])"
      ]
     },
     "execution_count": 755,
     "metadata": {},
     "output_type": "execute_result"
    }
   ],
   "source": [
    "d2=np.array([[1,2,3],[4,5,6],[7,8,9]]) # cumulative sum of the elements in a dimensional array (2D)\n",
    "print(d2)\n",
    "d2.cumsum(axis=1)"
   ]
  },
  {
   "cell_type": "code",
   "execution_count": 757,
   "id": "87e9a28d-cac8-417a-9990-b4defcd64047",
   "metadata": {},
   "outputs": [
    {
     "name": "stdout",
     "output_type": "stream",
     "text": [
      "[[[1 2 3]\n",
      "  [4 5 6]\n",
      "  [7 8 9]]]\n"
     ]
    },
    {
     "data": {
      "text/plain": [
       "array([[[ 1,  3,  6],\n",
       "        [ 4,  9, 15],\n",
       "        [ 7, 15, 24]]])"
      ]
     },
     "execution_count": 757,
     "metadata": {},
     "output_type": "execute_result"
    }
   ],
   "source": [
    "d3=np.array([[[1,2,3],[4,5,6],[7,8,9]]]) # cumulative sum of the elements in a dimensional array (3D)\n",
    "print(d3)\n",
    "d3.cumsum(axis=2)"
   ]
  },
  {
   "cell_type": "code",
   "execution_count": 759,
   "id": "78fd45a2-b0aa-4fb9-8472-c1d9049e26e5",
   "metadata": {},
   "outputs": [
    {
     "data": {
      "text/plain": [
       "1.0"
      ]
     },
     "execution_count": 759,
     "metadata": {},
     "output_type": "execute_result"
    }
   ],
   "source": [
    "np.corrcoef(d1) #Correlation coefficient"
   ]
  },
  {
   "cell_type": "code",
   "execution_count": 761,
   "id": "029c01b1-7617-44b9-85fd-a139d45a1d5d",
   "metadata": {},
   "outputs": [
    {
     "data": {
      "text/plain": [
       "array([[1., 1., 1.],\n",
       "       [1., 1., 1.],\n",
       "       [1., 1., 1.]])"
      ]
     },
     "execution_count": 761,
     "metadata": {},
     "output_type": "execute_result"
    }
   ],
   "source": [
    "np.corrcoef(d2) #Correlation coefficient more than 2 dimensions can't run"
   ]
  },
  {
   "cell_type": "markdown",
   "id": "28599061-7405-466d-be8f-f5aa85c84b6e",
   "metadata": {},
   "source": [
    "|||.................................................................................................................................................................................................................................................................................................................................................................|||"
   ]
  },
  {
   "cell_type": "markdown",
   "id": "48de6463-05c1-446e-af48-304427627567",
   "metadata": {},
   "source": [
    "||>> ARITHMETIC OPERATIONS "
   ]
  },
  {
   "cell_type": "code",
   "execution_count": 768,
   "id": "4f402a87-886f-4728-95aa-106e5f66469a",
   "metadata": {},
   "outputs": [
    {
     "data": {
      "text/plain": [
       "5"
      ]
     },
     "execution_count": 768,
     "metadata": {},
     "output_type": "execute_result"
    }
   ],
   "source": [
    "np.subtract (10,5)  #subtract 2 values (max 2 number can do)"
   ]
  },
  {
   "cell_type": "code",
   "execution_count": 770,
   "id": "35e7aac9-ca1f-469b-ae59-ec8807a9ad89",
   "metadata": {},
   "outputs": [
    {
     "data": {
      "text/plain": [
       "array([-1, -2,  0,  1,  3])"
      ]
     },
     "execution_count": 770,
     "metadata": {},
     "output_type": "execute_result"
    }
   ],
   "source": [
    "np.subtract (ma,ml) # For subtract array's values each other"
   ]
  },
  {
   "cell_type": "code",
   "execution_count": 772,
   "id": "8e6f430a-15a0-4da4-b92b-bc33bd0226a3",
   "metadata": {},
   "outputs": [
    {
     "name": "stdout",
     "output_type": "stream",
     "text": [
      "1\n"
     ]
    }
   ],
   "source": [
    "# for subtract between sum of 2 array's\n",
    "a1=np.sum(ma) #sum value is : 24\n",
    "a2=np.sum(ml) #sum value is : 23\n",
    "print(np.subtract (a1,a2)) #24-23=....?"
   ]
  },
  {
   "cell_type": "code",
   "execution_count": 774,
   "id": "2e7d4b14-5999-44b3-a7db-c84aa29f807e",
   "metadata": {},
   "outputs": [
    {
     "data": {
      "text/plain": [
       "array([ 5,  8, 12, 17,  5])"
      ]
     },
     "execution_count": 774,
     "metadata": {},
     "output_type": "execute_result"
    }
   ],
   "source": [
    "np.add(ma,ml) # for addition 2 array's values each other NB: not for total sum. "
   ]
  },
  {
   "cell_type": "code",
   "execution_count": 776,
   "id": "3f01b234-2cb3-47b9-a4c8-ca1792b3837d",
   "metadata": {},
   "outputs": [
    {
     "data": {
      "text/plain": [
       "45"
      ]
     },
     "execution_count": 776,
     "metadata": {},
     "output_type": "execute_result"
    }
   ],
   "source": [
    "np.add(25,20) #addition 2 numbers"
   ]
  },
  {
   "cell_type": "code",
   "execution_count": 778,
   "id": "bd998aa8-d16f-47f4-8706-b2db312701ef",
   "metadata": {},
   "outputs": [
    {
     "data": {
      "text/plain": [
       "10"
      ]
     },
     "execution_count": 778,
     "metadata": {},
     "output_type": "execute_result"
    }
   ],
   "source": [
    "np.multiply(2,5) #for multiplying 2 values "
   ]
  },
  {
   "cell_type": "code",
   "execution_count": 780,
   "id": "4689e11d-6001-4dd7-a2b6-2d76ce98708a",
   "metadata": {},
   "outputs": [
    {
     "data": {
      "text/plain": [
       "array([ 6, 15, 36, 72,  4])"
      ]
     },
     "execution_count": 780,
     "metadata": {},
     "output_type": "execute_result"
    }
   ],
   "source": [
    "np.multiply(ma,ml) # multiplying 2 array's elements each other. "
   ]
  },
  {
   "cell_type": "code",
   "execution_count": 782,
   "id": "c7ce78e9-759b-4ea1-ab7f-f63aa68a41bf",
   "metadata": {},
   "outputs": [
    {
     "data": {
      "text/plain": [
       "5.0"
      ]
     },
     "execution_count": 782,
     "metadata": {},
     "output_type": "execute_result"
    }
   ],
   "source": [
    "np.divide(20,4) # for divide 2 values "
   ]
  },
  {
   "cell_type": "code",
   "execution_count": 784,
   "id": "c9e7ae7c-4019-4387-872b-9e581923b14f",
   "metadata": {},
   "outputs": [
    {
     "data": {
      "text/plain": [
       "array([0.66666667, 0.6       , 1.        , 1.125     , 4.        ])"
      ]
     },
     "execution_count": 784,
     "metadata": {},
     "output_type": "execute_result"
    }
   ],
   "source": [
    "np.divide(ma,ml) #divide 2 array's elements each other"
   ]
  },
  {
   "cell_type": "code",
   "execution_count": 786,
   "id": "094857d0-2bed-4379-b946-043bc25dc1c7",
   "metadata": {},
   "outputs": [
    {
     "data": {
      "text/plain": [
       "array([7.38905610e+00, 2.00855369e+01, 4.03428793e+02, 8.10308393e+03,\n",
       "       5.45981500e+01])"
      ]
     },
     "execution_count": 786,
     "metadata": {},
     "output_type": "execute_result"
    }
   ],
   "source": [
    "np.exp(ma) #get exponential of all values of a array"
   ]
  },
  {
   "cell_type": "code",
   "execution_count": 788,
   "id": "2ea29da7-876a-4442-aa6f-7eab11fe124c",
   "metadata": {},
   "outputs": [
    {
     "data": {
      "text/plain": [
       "array([2.00855369e+01, 1.48413159e+02, 4.03428793e+02, 2.98095799e+03,\n",
       "       2.71828183e+00])"
      ]
     },
     "execution_count": 788,
     "metadata": {},
     "output_type": "execute_result"
    }
   ],
   "source": [
    "np.exp(ml) #get exponential of all values of a array"
   ]
  },
  {
   "cell_type": "code",
   "execution_count": 790,
   "id": "7671efac-5a40-4899-b8ef-819d732ef18d",
   "metadata": {},
   "outputs": [
    {
     "data": {
      "text/plain": [
       "array([ 0.90929743,  0.14112001, -0.2794155 ,  0.41211849, -0.7568025 ])"
      ]
     },
     "execution_count": 790,
     "metadata": {},
     "output_type": "execute_result"
    }
   ],
   "source": [
    "np.sin(ma) #get sin of all values of a array"
   ]
  },
  {
   "cell_type": "code",
   "execution_count": 792,
   "id": "806eec32-89f1-4cf6-b51d-3f894582c6a2",
   "metadata": {},
   "outputs": [
    {
     "data": {
      "text/plain": [
       "array([ 0.14112001, -0.95892427, -0.2794155 ,  0.98935825,  0.84147098])"
      ]
     },
     "execution_count": 792,
     "metadata": {},
     "output_type": "execute_result"
    }
   ],
   "source": [
    "np.sin(ml) #get sin of all values of a array"
   ]
  },
  {
   "cell_type": "code",
   "execution_count": 794,
   "id": "0a2dc62f-d8ae-4bd9-847f-b701b8ba4546",
   "metadata": {},
   "outputs": [
    {
     "data": {
      "text/plain": [
       "array([1.41421356, 1.73205081, 2.44948974, 3.        , 2.        ])"
      ]
     },
     "execution_count": 794,
     "metadata": {},
     "output_type": "execute_result"
    }
   ],
   "source": [
    "np.sqrt(ma) # get square root of all values of a array"
   ]
  },
  {
   "cell_type": "code",
   "execution_count": 796,
   "id": "fa88353f-6152-47c0-ba10-ad1b18b2ff88",
   "metadata": {},
   "outputs": [
    {
     "data": {
      "text/plain": [
       "array([1.73205081, 2.23606798, 2.44948974, 2.82842712, 1.        ])"
      ]
     },
     "execution_count": 796,
     "metadata": {},
     "output_type": "execute_result"
    }
   ],
   "source": [
    "np.sqrt(ml) # get square root of all values of a array"
   ]
  },
  {
   "cell_type": "code",
   "execution_count": 798,
   "id": "823870c6-d992-4984-bdaf-c85cbc861951",
   "metadata": {},
   "outputs": [
    {
     "data": {
      "text/plain": [
       "array([0.69314718, 1.09861229, 1.79175947, 2.19722458, 1.38629436])"
      ]
     },
     "execution_count": 798,
     "metadata": {},
     "output_type": "execute_result"
    }
   ],
   "source": [
    "np.log(ma) #Element-wise natural logarithm from array"
   ]
  },
  {
   "cell_type": "code",
   "execution_count": 800,
   "id": "2f03568f-15c1-45ed-bbca-4ac2f61a656c",
   "metadata": {},
   "outputs": [
    {
     "data": {
      "text/plain": [
       "array([1.09861229, 1.60943791, 1.79175947, 2.07944154, 0.        ])"
      ]
     },
     "execution_count": 800,
     "metadata": {},
     "output_type": "execute_result"
    }
   ],
   "source": [
    "np.log(ml) #Element-wise natural logarithm from array"
   ]
  },
  {
   "cell_type": "code",
   "execution_count": 802,
   "id": "c8d85922-89a6-4b33-acb5-0cc5a831b92f",
   "metadata": {},
   "outputs": [
    {
     "name": "stdout",
     "output_type": "stream",
     "text": [
      "552\n"
     ]
    }
   ],
   "source": [
    "z1=np.sum(ma)\n",
    "z2=np.sum(ml)\n",
    "z3=np.multiply(z1,z2) #for multiply sum of array's values.\n",
    "print(z3)"
   ]
  },
  {
   "cell_type": "code",
   "execution_count": 804,
   "id": "9ab1b7b9-53f3-44b4-b676-90e80a25fa89",
   "metadata": {},
   "outputs": [
    {
     "data": {
      "text/plain": [
       "22.08"
      ]
     },
     "execution_count": 804,
     "metadata": {},
     "output_type": "execute_result"
    }
   ],
   "source": [
    "a3=np.sum((ma,ml),dtype=int) #sum value is : 24+25=49\n",
    "a4=np.mean(ma) # value =4.8\n",
    "a5=np.mean(ml) # value =4.6\n",
    "np.multiply(a4,a5) #for multiply average of array's values.4.6*4.8=.....?"
   ]
  },
  {
   "cell_type": "markdown",
   "id": "09ee303e-f34f-48b3-9b3e-d8c079b75afa",
   "metadata": {},
   "source": [
    "|||.................................................................................................................................................................................................................................................................................................................................................................|||"
   ]
  },
  {
   "cell_type": "markdown",
   "id": "e01b14b2-a71f-4165-aa44-c7201d5564b3",
   "metadata": {},
   "source": [
    "||>> COMPARISON "
   ]
  },
  {
   "cell_type": "code",
   "execution_count": 811,
   "id": "3e56f04e-7b40-43ef-82cc-0e5ceeb6f7e0",
   "metadata": {},
   "outputs": [
    {
     "data": {
      "text/plain": [
       "array([False, False,  True, False, False])"
      ]
     },
     "execution_count": 811,
     "metadata": {},
     "output_type": "execute_result"
    }
   ],
   "source": [
    "ma==ml #element-wise comparison "
   ]
  },
  {
   "cell_type": "code",
   "execution_count": 813,
   "id": "f0ab0458-ad2e-4431-86c7-7bc0b13e6f35",
   "metadata": {},
   "outputs": [
    {
     "data": {
      "text/plain": [
       "array([ True,  True, False, False, False])"
      ]
     },
     "execution_count": 813,
     "metadata": {},
     "output_type": "execute_result"
    }
   ],
   "source": [
    "ma<ml #element-wise comparison "
   ]
  },
  {
   "cell_type": "code",
   "execution_count": 815,
   "id": "53de23cc-c68e-4587-96a4-0d8e315c9abf",
   "metadata": {},
   "outputs": [
    {
     "data": {
      "text/plain": [
       "False"
      ]
     },
     "execution_count": 815,
     "metadata": {},
     "output_type": "execute_result"
    }
   ],
   "source": [
    "np.array_equal(ma,ml) #Array-wise comparison"
   ]
  },
  {
   "cell_type": "markdown",
   "id": "fb007f7b-04e1-430b-aa5f-3a195d9cc92e",
   "metadata": {},
   "source": [
    "|||.................................................................................................................................................................................................................................................................................................................................................................|||"
   ]
  },
  {
   "cell_type": "markdown",
   "id": "9318ed3d-0055-487c-965d-c61aeb402f1a",
   "metadata": {},
   "source": [
    "||>> DATA TYPE"
   ]
  },
  {
   "cell_type": "code",
   "execution_count": 820,
   "id": "905a0ba5-0748-48bf-a69a-c6e15217ecb0",
   "metadata": {},
   "outputs": [
    {
     "data": {
      "text/plain": [
       "numpy.int64"
      ]
     },
     "execution_count": 820,
     "metadata": {},
     "output_type": "execute_result"
    }
   ],
   "source": [
    "np.int64 #Signed 64-bit integer types"
   ]
  },
  {
   "cell_type": "code",
   "execution_count": 822,
   "id": "7dea4e2c-11c9-4bf0-b6fb-f651a03453a6",
   "metadata": {},
   "outputs": [
    {
     "data": {
      "text/plain": [
       "numpy.float32"
      ]
     },
     "execution_count": 822,
     "metadata": {},
     "output_type": "execute_result"
    }
   ],
   "source": [
    "np.float32 #Standard double-precision floating point"
   ]
  },
  {
   "cell_type": "code",
   "execution_count": 824,
   "id": "934b2596-ace3-424f-9a39-dc2a77662d3e",
   "metadata": {},
   "outputs": [
    {
     "data": {
      "text/plain": [
       "numpy.object_"
      ]
     },
     "execution_count": 824,
     "metadata": {},
     "output_type": "execute_result"
    }
   ],
   "source": [
    "np.object_ #Python object type"
   ]
  },
  {
   "cell_type": "code",
   "execution_count": 826,
   "id": "8248db6d-c5a7-49ce-a370-d5c349c69d6f",
   "metadata": {},
   "outputs": [
    {
     "data": {
      "text/plain": [
       "numpy.bytes_"
      ]
     },
     "execution_count": 826,
     "metadata": {},
     "output_type": "execute_result"
    }
   ],
   "source": [
    " np.string_ #Fixed-length string type"
   ]
  },
  {
   "cell_type": "code",
   "execution_count": 828,
   "id": "c6742c93-dd89-4ffd-9c93-2fd4a561907e",
   "metadata": {},
   "outputs": [
    {
     "data": {
      "text/plain": [
       "numpy.str_"
      ]
     },
     "execution_count": 828,
     "metadata": {},
     "output_type": "execute_result"
    }
   ],
   "source": [
    "np.unicode_ #Fixed-length unicode type"
   ]
  },
  {
   "cell_type": "markdown",
   "id": "d8b90f90-798a-45b4-a826-bc2dc2bee414",
   "metadata": {},
   "source": [
    "|||.................................................................................................................................................................................................................................................................................................................................................................|||"
   ]
  },
  {
   "cell_type": "markdown",
   "id": "396ac359-7a21-4b5d-a716-8713609e65fe",
   "metadata": {},
   "source": [
    " ||>> NUMPY ARRAYS DIMENSIONS "
   ]
  },
  {
   "cell_type": "code",
   "execution_count": 836,
   "id": "c1165bd5-39c4-48c1-b472-a540ed321845",
   "metadata": {},
   "outputs": [
    {
     "name": "stdout",
     "output_type": "stream",
     "text": [
      "[1 2 3]\n",
      "\n",
      "[[1 2 3]\n",
      " [4 5 6]\n",
      " [7 8 9]]\n",
      "\n",
      "[[[1 2 3]\n",
      "  [4 5 6]\n",
      "  [7 8 9]]]\n"
     ]
    }
   ],
   "source": [
    "d1=np.array([1,2,3])                      #1D  1 dimensional array\n",
    "d2=np.array([[1,2,3],[4,5,6],[7,8,9]])    #2D  2 dimensional array\n",
    "d3=np.array([[[1,2,3],[4,5,6],[7,8,9]]])  #3D  3 dimensional array\n",
    "print(d1)\n",
    "print()\n",
    "print(d2)\n",
    "print()\n",
    "print(d3)"
   ]
  },
  {
   "cell_type": "markdown",
   "id": "5a580d09-da6a-4a7b-9d26-ccaa18a0068a",
   "metadata": {},
   "source": [
    "|||.................................................................................................................................................................................................................................................................................................................................................................|||"
   ]
  },
  {
   "cell_type": "markdown",
   "id": "6687251e-1af9-49b8-ad39-f24b1c83b65d",
   "metadata": {},
   "source": [
    "||>> SAVING AND LOADING ON DISK"
   ]
  },
  {
   "cell_type": "code",
   "execution_count": 858,
   "id": "17025e90-9c4c-472b-9b17-b918cbba7fad",
   "metadata": {},
   "outputs": [],
   "source": [
    "np.save(\"MY ARRAY\",a)"
   ]
  },
  {
   "cell_type": "code",
   "execution_count": 860,
   "id": "ebaaf9ba-cbaf-4537-af00-166ff7da567f",
   "metadata": {},
   "outputs": [],
   "source": [
    "np.savez(\"ARRAY.NPZ\",a,b)"
   ]
  },
  {
   "cell_type": "code",
   "execution_count": 862,
   "id": "1d20ab5f-2872-42bb-871a-209e750524d3",
   "metadata": {},
   "outputs": [
    {
     "data": {
      "text/plain": [
       "array([10, 15, 20, 25, 30])"
      ]
     },
     "execution_count": 862,
     "metadata": {},
     "output_type": "execute_result"
    }
   ],
   "source": [
    "np.load(\"MY ARRAY.NPY\")"
   ]
  },
  {
   "cell_type": "markdown",
   "id": "bc953d86-865e-428c-8261-8621ece36166",
   "metadata": {},
   "source": [
    "|||.................................................................................................................................................................................................................................................................................................................................................................|||"
   ]
  },
  {
   "cell_type": "markdown",
   "id": "5bccbb0a-a5c0-4d94-9a86-8e128e415995",
   "metadata": {},
   "source": [
    "||>> INSPECTING ARRAY"
   ]
  },
  {
   "cell_type": "code",
   "execution_count": 878,
   "id": "d60a093c-98e0-4011-8c1b-6fd4173956b3",
   "metadata": {},
   "outputs": [
    {
     "name": "stdout",
     "output_type": "stream",
     "text": [
      "[ 0  1  2  3  4  5  6  7  8  9 10 11 12 13 14 15 16 17 18 19]\n"
     ]
    }
   ],
   "source": [
    "g4=np.arange(20) #add a range off numbers to array multiply with \"1\"\n",
    "print(g4)"
   ]
  },
  {
   "cell_type": "code",
   "execution_count": 880,
   "id": "337d44e2-2e09-4af8-a1c5-8a5e016d4f7b",
   "metadata": {},
   "outputs": [
    {
     "data": {
      "text/plain": [
       "array([10, 11, 12, 13, 14, 15, 16, 17, 18, 19, 20, 21, 22, 23, 24, 25, 26,\n",
       "       27, 28, 29, 30])"
      ]
     },
     "execution_count": 880,
     "metadata": {},
     "output_type": "execute_result"
    }
   ],
   "source": [
    "g5=np.arange(10,31)#add specific (start to end) values to array multiply with \"1\"\n",
    "g5"
   ]
  },
  {
   "cell_type": "code",
   "execution_count": 882,
   "id": "ddddee7e-650c-4143-aba9-6eb44e40bb06",
   "metadata": {},
   "outputs": [
    {
     "data": {
      "text/plain": [
       "array([ 0,  5, 10, 15, 20, 25, 30, 35, 40, 45])"
      ]
     },
     "execution_count": 882,
     "metadata": {},
     "output_type": "execute_result"
    }
   ],
   "source": [
    "g6=np.arange(0,50,5)#add values to array (start,end,action)\n",
    "g6"
   ]
  },
  {
   "cell_type": "code",
   "execution_count": 884,
   "id": "aa74e4a6-3574-45fb-ba70-0b7bd316488a",
   "metadata": {},
   "outputs": [
    {
     "data": {
      "text/plain": [
       "10"
      ]
     },
     "execution_count": 884,
     "metadata": {},
     "output_type": "execute_result"
    }
   ],
   "source": [
    "g6.size # to check how much values inside off that specific array "
   ]
  },
  {
   "cell_type": "code",
   "execution_count": 886,
   "id": "d21c4915-16c2-4168-bdf0-d38a1312c7d1",
   "metadata": {},
   "outputs": [
    {
     "data": {
      "text/plain": [
       "(10,)"
      ]
     },
     "execution_count": 886,
     "metadata": {},
     "output_type": "execute_result"
    }
   ],
   "source": [
    "g6.shape # to check shape of array"
   ]
  },
  {
   "cell_type": "code",
   "execution_count": 888,
   "id": "73f71952-cfa3-4c88-abf1-361d2d69ee7b",
   "metadata": {},
   "outputs": [
    {
     "data": {
      "text/plain": [
       "dtype('int32')"
      ]
     },
     "execution_count": 888,
     "metadata": {},
     "output_type": "execute_result"
    }
   ],
   "source": [
    "g6.dtype # to check type of array"
   ]
  },
  {
   "cell_type": "code",
   "execution_count": 890,
   "id": "e93162f3-2a6d-41a6-97e1-aa42eb6f24d0",
   "metadata": {},
   "outputs": [
    {
     "data": {
      "text/plain": [
       "1"
      ]
     },
     "execution_count": 890,
     "metadata": {},
     "output_type": "execute_result"
    }
   ],
   "source": [
    "g6.ndim # to check dimensions "
   ]
  },
  {
   "cell_type": "code",
   "execution_count": 892,
   "id": "d5fded16-3ac8-4514-8cdb-304c3c10e1b6",
   "metadata": {},
   "outputs": [
    {
     "data": {
      "text/plain": [
       "3"
      ]
     },
     "execution_count": 892,
     "metadata": {},
     "output_type": "execute_result"
    }
   ],
   "source": [
    "d3.ndim # to check dimensions "
   ]
  },
  {
   "cell_type": "code",
   "execution_count": 894,
   "id": "a134c626-d443-467a-8fa5-d1a04449582c",
   "metadata": {},
   "outputs": [
    {
     "data": {
      "text/plain": [
       "(1, 8)"
      ]
     },
     "execution_count": 894,
     "metadata": {},
     "output_type": "execute_result"
    }
   ],
   "source": [
    "k1=np.array([1,2,3,4,5,6,7,8],ndmin=2) # for setting diamentions same time of array creation\n",
    "k1.shape"
   ]
  },
  {
   "cell_type": "code",
   "execution_count": 896,
   "id": "b722dd3f-d14a-4401-8a0b-8d5951264658",
   "metadata": {},
   "outputs": [
    {
     "data": {
      "text/plain": [
       "(2, 4)"
      ]
     },
     "execution_count": 896,
     "metadata": {},
     "output_type": "execute_result"
    }
   ],
   "source": [
    "k1=k1.reshape(2,4)\n",
    "k1.shape"
   ]
  },
  {
   "cell_type": "code",
   "execution_count": 898,
   "id": "4f9cc856-cd9f-4a8a-8da7-3286261f71bc",
   "metadata": {},
   "outputs": [
    {
     "data": {
      "text/plain": [
       "2"
      ]
     },
     "execution_count": 898,
     "metadata": {},
     "output_type": "execute_result"
    }
   ],
   "source": [
    "len(k1) #Length of array"
   ]
  },
  {
   "cell_type": "code",
   "execution_count": 900,
   "id": "a563d46a-f66a-4f65-95a6-5e201945230a",
   "metadata": {},
   "outputs": [
    {
     "data": {
      "text/plain": [
       "'int32'"
      ]
     },
     "execution_count": 900,
     "metadata": {},
     "output_type": "execute_result"
    }
   ],
   "source": [
    "ml.dtype.name #Name of data type"
   ]
  },
  {
   "cell_type": "code",
   "execution_count": 902,
   "id": "c2faf4af-1eba-42e5-a55d-34548981b576",
   "metadata": {},
   "outputs": [
    {
     "data": {
      "text/plain": [
       "array([2, 3, 6, 9, 4])"
      ]
     },
     "execution_count": 902,
     "metadata": {},
     "output_type": "execute_result"
    }
   ],
   "source": [
    "ma.astype(int)"
   ]
  },
  {
   "cell_type": "markdown",
   "id": "9f762a57-728a-416f-a3a6-2dd029c55e15",
   "metadata": {},
   "source": [
    "|||.................................................................................................................................................................................................................................................................................................................................................................|||"
   ]
  },
  {
   "cell_type": "markdown",
   "id": "4d04e9d0-134b-4ac8-bf2c-2f3ad4b6c3fa",
   "metadata": {},
   "source": [
    "||>> INITIAL PLACEHOLDERS"
   ]
  },
  {
   "cell_type": "code",
   "execution_count": 910,
   "id": "301a7588-d101-40c3-ac5d-43b6f192ee9c",
   "metadata": {},
   "outputs": [
    {
     "name": "stdout",
     "output_type": "stream",
     "text": [
      "[0 0 0 0 0]\n"
     ]
    }
   ],
   "source": [
    "k2=np.zeros(5,dtype=int) #Create an array of zeros 1D\n",
    "print(k2)"
   ]
  },
  {
   "cell_type": "code",
   "execution_count": 912,
   "id": "c6cb71e2-0e4a-453c-9e64-0855da1f11fb",
   "metadata": {},
   "outputs": [
    {
     "name": "stdout",
     "output_type": "stream",
     "text": [
      "[[0 0 0 0]\n",
      " [0 0 0 0]\n",
      " [0 0 0 0]\n",
      " [0 0 0 0]\n",
      " [0 0 0 0]]\n"
     ]
    }
   ],
   "source": [
    "k2=np.zeros((5,4),dtype=int) #Create an array of zeros 2D\n",
    "print(k2)"
   ]
  },
  {
   "cell_type": "code",
   "execution_count": 914,
   "id": "926f58e7-79ae-40c1-bd33-c8dbb98e1e59",
   "metadata": {},
   "outputs": [
    {
     "name": "stdout",
     "output_type": "stream",
     "text": [
      "[[[0 0 0 0]\n",
      "  [0 0 0 0]\n",
      "  [0 0 0 0]]\n",
      "\n",
      " [[0 0 0 0]\n",
      "  [0 0 0 0]\n",
      "  [0 0 0 0]]]\n"
     ]
    }
   ],
   "source": [
    "k3=np.zeros((2,3,4),dtype=int) #Create an array of zeros 3D\n",
    "print(k3)"
   ]
  },
  {
   "cell_type": "code",
   "execution_count": 916,
   "id": "0575b23a-fe4e-4d0d-a34c-6b0275e82c32",
   "metadata": {},
   "outputs": [
    {
     "name": "stdout",
     "output_type": "stream",
     "text": [
      "[1 1 1 1 1]\n"
     ]
    }
   ],
   "source": [
    "k4=np.ones(5,dtype=int) #Create an array of ones 1D\n",
    "print(k4)"
   ]
  },
  {
   "cell_type": "code",
   "execution_count": 918,
   "id": "715af0f4-bb26-4b2d-8832-27a1f87b0cbe",
   "metadata": {},
   "outputs": [
    {
     "name": "stdout",
     "output_type": "stream",
     "text": [
      "[[1 1 1]\n",
      " [1 1 1]\n",
      " [1 1 1]\n",
      " [1 1 1]]\n"
     ]
    }
   ],
   "source": [
    "k4=np.ones((4,3),dtype=int) #Create an array of ones 2D\n",
    "print(k4)"
   ]
  },
  {
   "cell_type": "code",
   "execution_count": 920,
   "id": "99924790-3032-41b0-98a3-391d28a480d1",
   "metadata": {},
   "outputs": [
    {
     "name": "stdout",
     "output_type": "stream",
     "text": [
      "[[[1 1 1 1]\n",
      "  [1 1 1 1]\n",
      "  [1 1 1 1]\n",
      "  [1 1 1 1]]\n",
      "\n",
      " [[1 1 1 1]\n",
      "  [1 1 1 1]\n",
      "  [1 1 1 1]\n",
      "  [1 1 1 1]]]\n",
      "(2, 4, 4)\n"
     ]
    }
   ],
   "source": [
    "k4=np.ones((2,4,4),dtype=int) #Create an array of ones 3D\n",
    "print(k4)\n",
    "print(k4.shape)"
   ]
  },
  {
   "cell_type": "code",
   "execution_count": 922,
   "id": "a2600577-23a9-4990-bd10-d23cf0d7b217",
   "metadata": {},
   "outputs": [
    {
     "name": "stdout",
     "output_type": "stream",
     "text": [
      "[         0 1072693248          0 1072693248          0 1072693248]\n"
     ]
    }
   ],
   "source": [
    "em=np.empty(6,dtype=int) #Create an empty array 6 row only\n",
    "print(em)"
   ]
  },
  {
   "cell_type": "code",
   "execution_count": 924,
   "id": "ac19ccf3-3b29-40e8-8fe5-112808fc67bf",
   "metadata": {},
   "outputs": [
    {
     "name": "stdout",
     "output_type": "stream",
     "text": [
      "[[ 908599752        569         58          0]\n",
      " [         0          0          0          0]\n",
      " [         0         57 1852990827  808348773]\n",
      " [ 811938661  761409634  862021175  929444909]\n",
      " [ 943205733  908933429 1647325745 1633837369]\n",
      " [ 778462050 1667594341 1600484469 1970496882]]\n"
     ]
    }
   ],
   "source": [
    "em=np.empty((6,4),dtype=int) #Create an empty array 4 row 6 column \n",
    "print(em)"
   ]
  },
  {
   "cell_type": "code",
   "execution_count": 926,
   "id": "63864f7e-990f-4348-b2c1-c63d3ef5ac85",
   "metadata": {},
   "outputs": [
    {
     "name": "stdout",
     "output_type": "stream",
     "text": [
      "[[1 0 0]\n",
      " [0 1 0]\n",
      " [0 0 1]]\n"
     ]
    }
   ],
   "source": [
    "i=np.eye(3,dtype=int) #Create a 2X2 identity matrix\n",
    "print(i)"
   ]
  },
  {
   "cell_type": "code",
   "execution_count": 928,
   "id": "0dec9d14-a38c-449f-9d67-3109d838af6a",
   "metadata": {},
   "outputs": [
    {
     "data": {
      "text/plain": [
       "array([10.        , 10.34482759, 10.68965517, 11.03448276, 11.37931034,\n",
       "       11.72413793, 12.06896552, 12.4137931 , 12.75862069, 13.10344828,\n",
       "       13.44827586, 13.79310345, 14.13793103, 14.48275862, 14.82758621,\n",
       "       15.17241379, 15.51724138, 15.86206897, 16.20689655, 16.55172414,\n",
       "       16.89655172, 17.24137931, 17.5862069 , 17.93103448, 18.27586207,\n",
       "       18.62068966, 18.96551724, 19.31034483, 19.65517241, 20.        ])"
      ]
     },
     "execution_count": 928,
     "metadata": {},
     "output_type": "execute_result"
    }
   ],
   "source": [
    "np.linspace(10,20,30) #Create an array of evenly spaced values (number of samples)"
   ]
  },
  {
   "cell_type": "code",
   "execution_count": 930,
   "id": "635f0b69-a188-4fc1-bdbe-698463d91bcf",
   "metadata": {},
   "outputs": [
    {
     "data": {
      "text/plain": [
       "array([0.        , 0.11111111, 0.22222222, 0.33333333, 0.44444444,\n",
       "       0.55555556, 0.66666667, 0.77777778, 0.88888889, 1.        ])"
      ]
     },
     "execution_count": 930,
     "metadata": {},
     "output_type": "execute_result"
    }
   ],
   "source": [
    "np.linspace(0,1,10) #Create an array of evenly spaced values"
   ]
  },
  {
   "cell_type": "code",
   "execution_count": 932,
   "id": "2b0d3e25-76cb-4c64-be2f-fee3a0036974",
   "metadata": {},
   "outputs": [
    {
     "data": {
      "text/plain": [
       "array([1234., 1690., 2146., 2602., 3058., 3514., 3970., 4426., 4882.,\n",
       "       5338., 5794., 6250., 6706., 7162., 7618., 8074., 8530., 8986.,\n",
       "       9442., 9898.])"
      ]
     },
     "execution_count": 932,
     "metadata": {},
     "output_type": "execute_result"
    }
   ],
   "source": [
    "np.linspace(1234,9898,20) #Create an array of evenly spaced values"
   ]
  },
  {
   "cell_type": "code",
   "execution_count": 934,
   "id": "311c28e4-a84c-49d3-aff2-92b48b9878af",
   "metadata": {},
   "outputs": [
    {
     "data": {
      "text/plain": [
       "array([0.87253231, 0.71059901, 0.12374819, 0.94155659, 0.7527445 ,\n",
       "       0.1937787 , 0.17486409, 0.41559631, 0.42590327, 0.72365911])"
      ]
     },
     "execution_count": 934,
     "metadata": {},
     "output_type": "execute_result"
    }
   ],
   "source": [
    "np.random.random((10)) # ramdom numbers will store to array 1D"
   ]
  },
  {
   "cell_type": "code",
   "execution_count": 936,
   "id": "96fb01f4-3611-4674-9088-cdb96e023f2b",
   "metadata": {},
   "outputs": [
    {
     "data": {
      "text/plain": [
       "array([[0.93853208, 0.62177311, 0.34639653, 0.83188142, 0.57666627],\n",
       "       [0.10987465, 0.38336395, 0.46226882, 0.30110849, 0.0603295 ],\n",
       "       [0.4093493 , 0.88712608, 0.67548326, 0.91167518, 0.66951122]])"
      ]
     },
     "execution_count": 936,
     "metadata": {},
     "output_type": "execute_result"
    }
   ],
   "source": [
    "np.random.random((3,5)) # ramdom numbers will store to array 2D"
   ]
  },
  {
   "cell_type": "code",
   "execution_count": 938,
   "id": "365fdc3c-32c6-4021-bc14-389a069d48ed",
   "metadata": {},
   "outputs": [
    {
     "data": {
      "text/plain": [
       "array([[[7.66881226e-04, 3.15336888e-01, 3.03717453e-01, 7.84968409e-01,\n",
       "         3.80531247e-01],\n",
       "        [1.56666679e-02, 8.46268930e-01, 4.62743535e-01, 5.53737671e-01,\n",
       "         9.30951097e-02],\n",
       "        [4.48728509e-01, 2.40108297e-01, 6.42662519e-01, 6.21354928e-01,\n",
       "         4.78438625e-01]],\n",
       "\n",
       "       [[6.69670165e-01, 2.70016515e-01, 1.13977614e-01, 9.22675797e-01,\n",
       "         2.77318028e-01],\n",
       "        [6.50280878e-02, 6.33690903e-01, 4.26751300e-01, 2.93038572e-01,\n",
       "         8.12237408e-01],\n",
       "        [4.96772484e-01, 5.10032530e-01, 5.77770325e-01, 9.28322030e-01,\n",
       "         1.48066375e-01]]])"
      ]
     },
     "execution_count": 938,
     "metadata": {},
     "output_type": "execute_result"
    }
   ],
   "source": [
    "np.random.random((2,3,5)) # ramdom numbers will store to array  3D"
   ]
  },
  {
   "cell_type": "code",
   "execution_count": 940,
   "id": "0d1a8aaa-d288-481b-9323-144060831b19",
   "metadata": {},
   "outputs": [
    {
     "data": {
      "text/plain": [
       "array([0.36952053, 0.98043802, 0.53607893, 0.79713671, 0.40282577,\n",
       "       0.27462187, 0.49642179, 0.24156725, 0.17175709, 0.96949049])"
      ]
     },
     "execution_count": 940,
     "metadata": {},
     "output_type": "execute_result"
    }
   ],
   "source": [
    "np.random.rand(10) #to assign random and egually different numbers between 0 to 1  1D"
   ]
  },
  {
   "cell_type": "code",
   "execution_count": 942,
   "id": "329fb4b1-a761-40e7-a19d-ddf46c4bc4ad",
   "metadata": {},
   "outputs": [
    {
     "data": {
      "text/plain": [
       "array([[0.55551798, 0.39371826, 0.61504449, 0.38208315, 0.7103881 ],\n",
       "       [0.6461738 , 0.56816633, 0.3680844 , 0.57006434, 0.08993018],\n",
       "       [0.21195896, 0.81120792, 0.95017431, 0.61223365, 0.65041781]])"
      ]
     },
     "execution_count": 942,
     "metadata": {},
     "output_type": "execute_result"
    }
   ],
   "source": [
    "np.random.rand(3,5) #to assign random and egually different numbers between 0 to 2D"
   ]
  },
  {
   "cell_type": "code",
   "execution_count": 944,
   "id": "060ab59e-d680-49f0-a636-56c5fd5d8160",
   "metadata": {},
   "outputs": [
    {
     "data": {
      "text/plain": [
       "array([[[0.08084762, 0.50171117, 0.61621199, 0.23388458, 0.37189674],\n",
       "        [0.32266584, 0.77424798, 0.90641132, 0.4924199 , 0.25920714],\n",
       "        [0.31018403, 0.54953692, 0.10721654, 0.43692649, 0.15251564]],\n",
       "\n",
       "       [[0.16456555, 0.01684222, 0.32981043, 0.89820391, 0.44606016],\n",
       "        [0.65369859, 0.93265219, 0.59296075, 0.47414189, 0.27945587],\n",
       "        [0.46417934, 0.20788359, 0.93917331, 0.05603012, 0.06078324]]])"
      ]
     },
     "execution_count": 944,
     "metadata": {},
     "output_type": "execute_result"
    }
   ],
   "source": [
    "np.random.rand(2,3,5) #to assign random and egually different numbers between 0 to 3D"
   ]
  },
  {
   "cell_type": "code",
   "execution_count": 946,
   "id": "fade529d-67b8-4fb8-9c81-0940030d0e99",
   "metadata": {},
   "outputs": [
    {
     "data": {
      "text/plain": [
       "array([ 2.30365382,  0.28856177,  1.08175707, -0.81123905, -1.97140013,\n",
       "        0.64281374, -0.03053713, -0.0687615 ,  1.02025494,  0.65677654])"
      ]
     },
     "execution_count": 946,
     "metadata": {},
     "output_type": "execute_result"
    }
   ],
   "source": [
    "np.random.randn(10) #to assign random and different numbers between -1 to 1"
   ]
  },
  {
   "cell_type": "code",
   "execution_count": 948,
   "id": "9f819417-77db-4123-8777-8fa36b3cddce",
   "metadata": {},
   "outputs": [
    {
     "data": {
      "text/plain": [
       "array([[-1.35885723,  0.3533247 , -0.98488109,  1.02540378, -0.31017244],\n",
       "       [ 0.34869965,  0.40537519, -1.52076065, -2.13091444, -0.18875607]])"
      ]
     },
     "execution_count": 948,
     "metadata": {},
     "output_type": "execute_result"
    }
   ],
   "source": [
    "np.random.randn(2,5) #to assign random and different numbers between -1 to 1"
   ]
  },
  {
   "cell_type": "code",
   "execution_count": 950,
   "id": "66644afc-9887-4f9e-a206-bde1965e7087",
   "metadata": {},
   "outputs": [
    {
     "data": {
      "text/plain": [
       "array([[[-0.65787053,  0.2383376 ,  0.1304912 ,  0.12380902,\n",
       "         -0.0165755 ],\n",
       "        [ 1.0641025 ,  1.32927055,  1.05974797, -1.9264269 ,\n",
       "          0.98083413]],\n",
       "\n",
       "       [[ 1.08584095,  0.33420578,  1.5379859 , -0.78399968,\n",
       "         -2.32991082],\n",
       "        [-0.92783182,  1.62793921, -1.07128033, -0.23307412,\n",
       "         -0.22422668]],\n",
       "\n",
       "       [[-0.69445169,  1.065055  , -0.60859245, -0.71911729,\n",
       "         -0.06392071],\n",
       "        [-0.63128835,  0.19438675,  0.86996121,  0.90050757,\n",
       "          0.48426066]]])"
      ]
     },
     "execution_count": 950,
     "metadata": {},
     "output_type": "execute_result"
    }
   ],
   "source": [
    "np.random.randn(3,2,5) #to assign random and different numbers between -1 to 1 "
   ]
  },
  {
   "cell_type": "code",
   "execution_count": 952,
   "id": "a732efd9-363e-408a-95a0-174cbb96cd0d",
   "metadata": {},
   "outputs": [
    {
     "name": "stdout",
     "output_type": "stream",
     "text": [
      "[[7 7]\n",
      " [7 7]]\n"
     ]
    }
   ],
   "source": [
    "h1=np.full((2,2),7) #Create a constant array\n",
    "print(h1)"
   ]
  },
  {
   "cell_type": "markdown",
   "id": "7ff83547-440a-41e4-a8d1-36028a60837b",
   "metadata": {},
   "source": [
    "|||.................................................................................................................................................................................................................................................................................................................................................................|||"
   ]
  },
  {
   "cell_type": "code",
   "execution_count": 976,
   "id": "85c8f6c5-a017-4a41-ac59-c01cac4fc48c",
   "metadata": {},
   "outputs": [
    {
     "data": {
      "text/plain": [
       "[10, 15, 20, 25, 30, 10, 15, 20, 25, 30, 10, 15, 20, 25, 30]"
      ]
     },
     "execution_count": 976,
     "metadata": {},
     "output_type": "execute_result"
    }
   ],
   "source": [
    "a=[10,15,20,25,30]\n",
    "a*3"
   ]
  },
  {
   "cell_type": "code",
   "execution_count": 978,
   "id": "9d0c0940-e2a7-477d-aac8-5282c2c188f6",
   "metadata": {},
   "outputs": [
    {
     "name": "stdout",
     "output_type": "stream",
     "text": [
      "[10 15 20 25 30]\n"
     ]
    }
   ],
   "source": [
    "a1=np.array(a)\n",
    "print(a1)\n"
   ]
  },
  {
   "cell_type": "code",
   "execution_count": 980,
   "id": "1ae394bd-438d-423f-b15e-7ca950331922",
   "metadata": {},
   "outputs": [
    {
     "data": {
      "text/plain": [
       "array([30, 45, 60, 75, 90])"
      ]
     },
     "execution_count": 980,
     "metadata": {},
     "output_type": "execute_result"
    }
   ],
   "source": [
    "a1*3"
   ]
  },
  {
   "cell_type": "code",
   "execution_count": 982,
   "id": "ed733b9b-bba3-4d6a-83b7-a7c6f2602730",
   "metadata": {},
   "outputs": [
    {
     "name": "stdout",
     "output_type": "stream",
     "text": [
      "[10 20 30 40 50 60 70 80]\n"
     ]
    }
   ],
   "source": [
    "test=np.array([10,20,30,40,50,60,70,80])\n",
    "print(test)"
   ]
  },
  {
   "cell_type": "code",
   "execution_count": 984,
   "id": "fab2058c-6371-4192-bcef-2b5a295d4048",
   "metadata": {},
   "outputs": [
    {
     "data": {
      "text/plain": [
       "array([50, 60, 70, 80])"
      ]
     },
     "execution_count": 984,
     "metadata": {},
     "output_type": "execute_result"
    }
   ],
   "source": [
    "test[test>40]"
   ]
  },
  {
   "cell_type": "code",
   "execution_count": 986,
   "id": "d0a6be2f-56b1-4c72-b1bb-7e06cd69a894",
   "metadata": {},
   "outputs": [
    {
     "data": {
      "text/plain": [
       "array([40, 50, 60, 70, 80])"
      ]
     },
     "execution_count": 986,
     "metadata": {},
     "output_type": "execute_result"
    }
   ],
   "source": [
    "test[test>=40]"
   ]
  },
  {
   "cell_type": "code",
   "execution_count": 988,
   "id": "7f4c09e9-fde3-4eb0-928f-c6e25350191e",
   "metadata": {},
   "outputs": [
    {
     "data": {
      "text/plain": [
       "array([10, 20, 30, 40, 50])"
      ]
     },
     "execution_count": 988,
     "metadata": {},
     "output_type": "execute_result"
    }
   ],
   "source": [
    "test[test<=50]"
   ]
  },
  {
   "cell_type": "code",
   "execution_count": 990,
   "id": "9a993711-dfe6-41d1-97fb-1df316c3a15f",
   "metadata": {},
   "outputs": [
    {
     "data": {
      "text/plain": [
       "1.6094379124341003"
      ]
     },
     "execution_count": 990,
     "metadata": {},
     "output_type": "execute_result"
    }
   ],
   "source": [
    "np.log(5)"
   ]
  },
  {
   "cell_type": "code",
   "execution_count": 992,
   "id": "7da08d51-0eeb-476e-bfcb-bc335e872617",
   "metadata": {},
   "outputs": [
    {
     "data": {
      "text/plain": [
       "nan"
      ]
     },
     "execution_count": 992,
     "metadata": {},
     "output_type": "execute_result"
    }
   ],
   "source": [
    "np.nan"
   ]
  },
  {
   "cell_type": "code",
   "execution_count": null,
   "id": "bc04ac5f-44d7-4e00-8479-84df13c7b219",
   "metadata": {},
   "outputs": [],
   "source": []
  }
 ],
 "metadata": {
  "kernelspec": {
   "display_name": "Python 3 (ipykernel)",
   "language": "python",
   "name": "python3"
  },
  "language_info": {
   "codemirror_mode": {
    "name": "ipython",
    "version": 3
   },
   "file_extension": ".py",
   "mimetype": "text/x-python",
   "name": "python",
   "nbconvert_exporter": "python",
   "pygments_lexer": "ipython3",
   "version": "3.12.4"
  }
 },
 "nbformat": 4,
 "nbformat_minor": 5
}
